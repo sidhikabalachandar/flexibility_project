{
 "cells": [
  {
   "cell_type": "code",
   "execution_count": 2,
   "metadata": {},
   "outputs": [],
   "source": [
    "import pandas as pd\n",
    "import numpy as np\n",
    "import seaborn as sns\n",
    "import matplotlib.pyplot as plt\n",
    "import time\n",
    " \n",
    "from sklearn.decomposition import PCA\n",
    "from sklearn.preprocessing import StandardScaler, LabelEncoder\n",
    " \n",
    "from sklearn.linear_model import LogisticRegression\n",
    "from sklearn.svm import SVC\n",
    "from sklearn.neighbors import KNeighborsClassifier\n",
    "from sklearn import tree\n",
    "from sklearn.neural_network import MLPClassifier\n",
    "from sklearn.neighbors import KNeighborsClassifier\n",
    "from sklearn.ensemble import GradientBoostingClassifier\n",
    "from sklearn.gaussian_process.kernels import RBF\n",
    "from sklearn.ensemble import RandomForestClassifier\n",
    "from sklearn.naive_bayes import GaussianNB\n",
    "from sklearn.model_selection import train_test_split\n",
    "import sklearn.metrics as metrics\n",
    "import os\n",
    "from sklearn import preprocessing"
   ]
  },
  {
   "cell_type": "code",
   "execution_count": 98,
   "metadata": {},
   "outputs": [
    {
     "name": "stdout",
     "output_type": "stream",
     "text": [
      "Data size 295046\n",
      "Without 2YIX and 3D83 size 295013\n",
      "2YIX and 3D83 size 33\n",
      "Without MAPK14 size 283244\n",
      "MAPK14 size 11802\n"
     ]
    }
   ],
   "source": [
    "files = os.listdir('../Data/rmsds')\n",
    "first = True\n",
    "data = pd.read_csv(\"../Data/rmsds/5HT2B_rmsds.csv\")\n",
    "\n",
    "for file in files:\n",
    "    if file[-4:] == '.csv' and file != '5HT2B_rmsds.csv':\n",
    "        fileData = pd.read_csv(\"../Data/rmsds/\" + file)\n",
    "        data = pd.concat([data, fileData])\n",
    "data = data[data['secondary structure'] != -1]\n",
    "test = data[(data['protein'] == 'MAPK14') & (data['start ligand'] == '2YIX') & (data['target ligand'] == '3D83')]\n",
    "MAPK14_data = data[(data['protein'] != 'MAPK14') | (data['start ligand'] != '2YIX') | (data['target ligand'] != '3D83')]\n",
    "no_MAPK14_data = data[(data['protein'] != 'MAPK14')]\n",
    "MAPK14 = data[data['protein'] == 'MAPK14']\n",
    "print(\"Data size\", len(data))\n",
    "print(\"Without 2YIX and 3D83 size\", len(MAPK14_data))\n",
    "print(\"2YIX and 3D83 size\", len(test))\n",
    "print(\"Without MAPK14 size\", len(no_MAPK14_data))\n",
    "print(\"MAPK14 size\", len(MAPK14))\n",
    "\n"
   ]
  },
  {
   "cell_type": "code",
   "execution_count": 99,
   "metadata": {},
   "outputs": [],
   "source": [
    "# Not taking res name into account\n",
    "\n",
    "X = data.drop(['protein', 'start ligand', 'target ligand', 'rmsd', 'bfactor', 'normalized bfactor', 'res name'], axis=1).values\n",
    "y = data['rmsd'].values > 2\n",
    "X_train, X_test, Y_train, Y_test = train_test_split(X, y, test_size=0.3, random_state=5)\n",
    "\n",
    "# Oversampling minority group\n",
    "\n",
    "X_true = X_train[Y_train == True]\n",
    "Y_true = Y_train[Y_train == True]\n",
    "\n",
    "X_train_expanded = np.append(X_train_unnamed, X_true, axis=0)\n",
    "Y_train_expanded = np.append(Y_train_unnamed, Y_true, axis=0)\n",
    "\n",
    "for i in range(4):\n",
    "    X_train_expanded = np.append(X_train_expanded, X_true, axis=0)\n",
    "    Y_train_expanded = np.append(Y_train_expanded, Y_true, axis=0)\n",
    "    \n",
    "# Testing on 2YIX and 3D83 pairing\n",
    "    \n",
    "MAPK14_X = MAPK14_data.drop(['protein', 'start ligand', 'target ligand', 'rmsd', 'bfactor', 'normalized bfactor', 'res name'], axis=1).values\n",
    "MAPK14_y = MAPK14_data['rmsd'].values > 2\n",
    "MAPK14_X_train, MAPK14_X_test, MAPK14_Y_train, MAPK14_Y_test = train_test_split(MAPK14_X, MAPK14_y, test_size=0.3, random_state=5)\n",
    "\n",
    "MAPK14_X_true = MAPK14_X_train[MAPK14_Y_train == True]\n",
    "MAPK14_Y_true = MAPK14_Y_train[MAPK14_Y_train == True]\n",
    "\n",
    "MAPK14_X_train_expanded = np.append(MAPK14_X_train, MAPK14_X_true, axis=0)\n",
    "MAPK14_Y_train_expanded = np.append(MAPK14_Y_train, MAPK14_Y_true, axis=0)\n",
    "\n",
    "for i in range(4):\n",
    "    MAPK14_X_train_expanded = np.append(MAPK14_X_train_expanded, MAPK14_X_true, axis=0)\n",
    "    MAPK14_Y_train_expanded = np.append(MAPK14_Y_train_expanded, MAPK14_Y_true, axis=0)\n",
    "    \n",
    "MAPK14_x_test = test.drop(['protein', 'start ligand', 'target ligand', 'rmsd', 'bfactor', 'normalized bfactor', 'res name'], axis=1).values\n",
    "MAPK14_y_test = test['rmsd'].values > 2\n",
    "\n",
    "# Without MAPK14\n",
    "\n",
    "no_MAPK14_X = no_MAPK14_data.drop(['protein', 'start ligand', 'target ligand', 'rmsd', 'bfactor', 'normalized bfactor', 'res name'], axis=1).values\n",
    "no_MAPK14_y = no_MAPK14_data['rmsd'].values > 2\n",
    "no_MAPK14_X_train, no_MAPK14_X_test, no_MAPK14_Y_train, no_MAPK14_Y_test = train_test_split(no_MAPK14_X, no_MAPK14_y, test_size=0.3, random_state=5)\n",
    "\n",
    "no_MAPK14_X_true = no_MAPK14_X_train[no_MAPK14_Y_train == True]\n",
    "no_MAPK14_Y_true = no_MAPK14_Y_train[no_MAPK14_Y_train == True]\n",
    "\n",
    "no_MAPK14_X_train_expanded = np.append(no_MAPK14_X_train, no_MAPK14_X_true, axis=0)\n",
    "no_MAPK14_Y_train_expanded = np.append(no_MAPK14_Y_train, no_MAPK14_Y_true, axis=0)\n",
    "\n",
    "for i in range(4):\n",
    "    no_MAPK14_X_train_expanded = np.append(no_MAPK14_X_train_expanded, no_MAPK14_X_true, axis=0)\n",
    "    no_MAPK14_Y_train_expanded = np.append(no_MAPK14_Y_train_expanded, no_MAPK14_Y_true, axis=0)\n",
    "    \n",
    "no_MAPK14_x_test = MAPK14.drop(['protein', 'start ligand', 'target ligand', 'rmsd', 'bfactor', 'normalized bfactor', 'res name'], axis=1).values\n",
    "no_MAPK14_y_test = MAPK14['rmsd'].values > 2"
   ]
  },
  {
   "cell_type": "code",
   "execution_count": 87,
   "metadata": {},
   "outputs": [
    {
     "name": "stdout",
     "output_type": "stream",
     "text": [
      "0.4910942858695621\n",
      "206532\n",
      "206532\n"
     ]
    }
   ],
   "source": [
    "print(np.sum(Y_train_expanded)/len(Y_train_expanded))\n",
    "print(len(X_train))\n",
    "print(len(Y_train))"
   ]
  },
  {
   "cell_type": "code",
   "execution_count": 146,
   "metadata": {},
   "outputs": [],
   "source": [
    "dict_classifiers = {\n",
    "#     \"Logistic Regression\": LogisticRegression(),\n",
    "#     \"Nearest Neighbors\": KNeighborsClassifier(),\n",
    "#     \"Linear SVM\": SVC(),\n",
    "#     \"Gradient Boosting Classifier\": GradientBoostingClassifier(n_estimators=1000),\n",
    "    \"Decision Tree\": tree.DecisionTreeClassifier(),\n",
    "    \"Decision Tree with max depth = 5\": tree.DecisionTreeClassifier(max_depth=5),\n",
    "    \"Decision Tree with max depth = 10\": tree.DecisionTreeClassifier(max_depth=10),\n",
    "    \"Decision Tree with max depth = 15\": tree.DecisionTreeClassifier(max_depth=15),\n",
    "#     \"Random Forest\": RandomForestClassifier(n_estimators=1000),\n",
    "#     \"Neural Net\": MLPClassifier(alpha = 1),\n",
    "#     \"Naive Bayes\": GaussianNB(),\n",
    "    #\"AdaBoost\": AdaBoostClassifier(),\n",
    "    #\"QDA\": QuadraticDiscriminantAnalysis(),\n",
    "    #\"Gaussian Process\": GaussianProcessClassifier()\n",
    "}"
   ]
  },
  {
   "cell_type": "code",
   "execution_count": 152,
   "metadata": {},
   "outputs": [],
   "source": [
    "def batch_classify(X_train, Y_train, X_test, Y_test, no_classifiers = 5, verbose = True, include_y_pred = False):\n",
    "    \"\"\"\n",
    "    This method, takes as input the X, Y matrices of the Train and Test set.\n",
    "    And fits them on all of the Classifiers specified in the dict_classifier.\n",
    "    The trained models, and accuracies are saved in a dictionary. The reason to use a dictionary\n",
    "    is because it is very easy to save the whole dictionary with the pickle module.\n",
    "    \n",
    "    Usually, the SVM, Random Forest and Gradient Boosting Classifier take quiet some time to train. \n",
    "    So it is best to train them on a smaller dataset first and \n",
    "    decide whether you want to comment them out or not based on the test accuracy score.\n",
    "    \"\"\"\n",
    "    \n",
    "    dict_models = {}\n",
    "    for classifier_name, classifier in list(dict_classifiers.items())[:no_classifiers]:\n",
    "        t_start = time.process_time()\n",
    "        classifier.fit(X_train, Y_train)\n",
    "        t_end = time.process_time()\n",
    "        \n",
    "        t_diff = t_end - t_start\n",
    "        train_score = classifier.score(X_train, Y_train)\n",
    "        Y_pred = classifier.predict(X_test)\n",
    "        test_score = classifier.score(X_test, Y_test)\n",
    "        recall = metrics.recall_score(Y_test, Y_pred)\n",
    "        precision = metrics.precision_score(Y_test, Y_pred)\n",
    "        \n",
    "        if include_y_pred:\n",
    "            dict_models[classifier_name] = {'model': classifier_name, 'train_score': train_score, 'test_score': test_score, 'recall_score': recall, 'precision_score': precision, 'train_time': t_diff, 'y_pred': Y_pred}\n",
    "        else:\n",
    "            dict_models[classifier_name] = {'model': classifier_name, 'train_score': train_score, 'test_score': test_score, 'recall_score': recall, 'precision_score': precision, 'train_time': t_diff}\n",
    "        if verbose:\n",
    "            print(\"trained {c} in {f:.2f} s\".format(c=classifier_name, f=t_diff))\n",
    "    return dict_models"
   ]
  },
  {
   "cell_type": "code",
   "execution_count": 127,
   "metadata": {},
   "outputs": [
    {
     "name": "stdout",
     "output_type": "stream",
     "text": [
      "trained Decision Tree in 0.67 s\n",
      "trained Decision Tree  with max depth = 5 in 0.18 s\n",
      "trained Decision Tree  with max depth = 10 in 0.36 s\n",
      "trained Decision Tree  with max depth = 15 in 0.47 s\n",
      "Not taking res name into account:\n"
     ]
    },
    {
     "data": {
      "text/html": [
       "<div>\n",
       "<style scoped>\n",
       "    .dataframe tbody tr th:only-of-type {\n",
       "        vertical-align: middle;\n",
       "    }\n",
       "\n",
       "    .dataframe tbody tr th {\n",
       "        vertical-align: top;\n",
       "    }\n",
       "\n",
       "    .dataframe thead th {\n",
       "        text-align: right;\n",
       "    }\n",
       "</style>\n",
       "<table border=\"1\" class=\"dataframe\">\n",
       "  <thead>\n",
       "    <tr style=\"text-align: right;\">\n",
       "      <th></th>\n",
       "      <th>model</th>\n",
       "      <th>train_score</th>\n",
       "      <th>test_score</th>\n",
       "      <th>recall_score</th>\n",
       "      <th>precision_score</th>\n",
       "      <th>train_time</th>\n",
       "    </tr>\n",
       "  </thead>\n",
       "  <tbody>\n",
       "    <tr>\n",
       "      <th>Decision Tree</th>\n",
       "      <td>Decision Tree</td>\n",
       "      <td>0.928403</td>\n",
       "      <td>0.913776</td>\n",
       "      <td>0.595989</td>\n",
       "      <td>0.727528</td>\n",
       "      <td>0.673182</td>\n",
       "    </tr>\n",
       "    <tr>\n",
       "      <th>Decision Tree  with max depth = 10</th>\n",
       "      <td>Decision Tree  with max depth = 10</td>\n",
       "      <td>0.873385</td>\n",
       "      <td>0.872687</td>\n",
       "      <td>0.177350</td>\n",
       "      <td>0.631548</td>\n",
       "      <td>0.356628</td>\n",
       "    </tr>\n",
       "    <tr>\n",
       "      <th>Decision Tree  with max depth = 15</th>\n",
       "      <td>Decision Tree  with max depth = 15</td>\n",
       "      <td>0.889073</td>\n",
       "      <td>0.883792</td>\n",
       "      <td>0.276298</td>\n",
       "      <td>0.694341</td>\n",
       "      <td>0.473288</td>\n",
       "    </tr>\n",
       "    <tr>\n",
       "      <th>Decision Tree  with max depth = 5</th>\n",
       "      <td>Decision Tree  with max depth = 5</td>\n",
       "      <td>0.864994</td>\n",
       "      <td>0.866654</td>\n",
       "      <td>0.126726</td>\n",
       "      <td>0.567120</td>\n",
       "      <td>0.179250</td>\n",
       "    </tr>\n",
       "  </tbody>\n",
       "</table>\n",
       "</div>"
      ],
      "text/plain": [
       "                                                                 model  \\\n",
       "Decision Tree                                            Decision Tree   \n",
       "Decision Tree  with max depth = 10  Decision Tree  with max depth = 10   \n",
       "Decision Tree  with max depth = 15  Decision Tree  with max depth = 15   \n",
       "Decision Tree  with max depth = 5    Decision Tree  with max depth = 5   \n",
       "\n",
       "                                    train_score  test_score  recall_score  \\\n",
       "Decision Tree                          0.928403    0.913776      0.595989   \n",
       "Decision Tree  with max depth = 10     0.873385    0.872687      0.177350   \n",
       "Decision Tree  with max depth = 15     0.889073    0.883792      0.276298   \n",
       "Decision Tree  with max depth = 5      0.864994    0.866654      0.126726   \n",
       "\n",
       "                                    precision_score  train_time  \n",
       "Decision Tree                              0.727528    0.673182  \n",
       "Decision Tree  with max depth = 10         0.631548    0.356628  \n",
       "Decision Tree  with max depth = 15         0.694341    0.473288  \n",
       "Decision Tree  with max depth = 5          0.567120    0.179250  "
      ]
     },
     "execution_count": 127,
     "metadata": {},
     "output_type": "execute_result"
    }
   ],
   "source": [
    "from ipykernel import kernelapp as app\n",
    "dict_models = batch_classify(X_train, Y_train, X_test, Y_test)\n",
    "print(\"Not taking res name into account:\")\n",
    "pd.DataFrame.from_dict(dict_models, orient='index')"
   ]
  },
  {
   "cell_type": "code",
   "execution_count": 128,
   "metadata": {},
   "outputs": [
    {
     "name": "stdout",
     "output_type": "stream",
     "text": [
      "trained Decision Tree in 0.70 s\n",
      "trained Decision Tree  with max depth = 5 in 0.20 s\n",
      "trained Decision Tree  with max depth = 10 in 0.38 s\n",
      "trained Decision Tree  with max depth = 15 in 0.50 s\n",
      "Not taking res name into account:\n"
     ]
    },
    {
     "data": {
      "text/html": [
       "<div>\n",
       "<style scoped>\n",
       "    .dataframe tbody tr th:only-of-type {\n",
       "        vertical-align: middle;\n",
       "    }\n",
       "\n",
       "    .dataframe tbody tr th {\n",
       "        vertical-align: top;\n",
       "    }\n",
       "\n",
       "    .dataframe thead th {\n",
       "        text-align: right;\n",
       "    }\n",
       "</style>\n",
       "<table border=\"1\" class=\"dataframe\">\n",
       "  <thead>\n",
       "    <tr style=\"text-align: right;\">\n",
       "      <th></th>\n",
       "      <th>model</th>\n",
       "      <th>train_score</th>\n",
       "      <th>test_score</th>\n",
       "      <th>recall_score</th>\n",
       "      <th>precision_score</th>\n",
       "      <th>train_time</th>\n",
       "    </tr>\n",
       "  </thead>\n",
       "  <tbody>\n",
       "    <tr>\n",
       "      <th>Decision Tree</th>\n",
       "      <td>Decision Tree</td>\n",
       "      <td>0.928403</td>\n",
       "      <td>0.913765</td>\n",
       "      <td>0.595907</td>\n",
       "      <td>0.727501</td>\n",
       "      <td>0.700166</td>\n",
       "    </tr>\n",
       "    <tr>\n",
       "      <th>Decision Tree  with max depth = 10</th>\n",
       "      <td>Decision Tree  with max depth = 10</td>\n",
       "      <td>0.873385</td>\n",
       "      <td>0.872687</td>\n",
       "      <td>0.177350</td>\n",
       "      <td>0.631548</td>\n",
       "      <td>0.375982</td>\n",
       "    </tr>\n",
       "    <tr>\n",
       "      <th>Decision Tree  with max depth = 15</th>\n",
       "      <td>Decision Tree  with max depth = 15</td>\n",
       "      <td>0.889073</td>\n",
       "      <td>0.883792</td>\n",
       "      <td>0.276298</td>\n",
       "      <td>0.694341</td>\n",
       "      <td>0.498518</td>\n",
       "    </tr>\n",
       "    <tr>\n",
       "      <th>Decision Tree  with max depth = 5</th>\n",
       "      <td>Decision Tree  with max depth = 5</td>\n",
       "      <td>0.864994</td>\n",
       "      <td>0.866654</td>\n",
       "      <td>0.126726</td>\n",
       "      <td>0.567120</td>\n",
       "      <td>0.197774</td>\n",
       "    </tr>\n",
       "  </tbody>\n",
       "</table>\n",
       "</div>"
      ],
      "text/plain": [
       "                                                                 model  \\\n",
       "Decision Tree                                            Decision Tree   \n",
       "Decision Tree  with max depth = 10  Decision Tree  with max depth = 10   \n",
       "Decision Tree  with max depth = 15  Decision Tree  with max depth = 15   \n",
       "Decision Tree  with max depth = 5    Decision Tree  with max depth = 5   \n",
       "\n",
       "                                    train_score  test_score  recall_score  \\\n",
       "Decision Tree                          0.928403    0.913765      0.595907   \n",
       "Decision Tree  with max depth = 10     0.873385    0.872687      0.177350   \n",
       "Decision Tree  with max depth = 15     0.889073    0.883792      0.276298   \n",
       "Decision Tree  with max depth = 5      0.864994    0.866654      0.126726   \n",
       "\n",
       "                                    precision_score  train_time  \n",
       "Decision Tree                              0.727501    0.700166  \n",
       "Decision Tree  with max depth = 10         0.631548    0.375982  \n",
       "Decision Tree  with max depth = 15         0.694341    0.498518  \n",
       "Decision Tree  with max depth = 5          0.567120    0.197774  "
      ]
     },
     "execution_count": 128,
     "metadata": {},
     "output_type": "execute_result"
    }
   ],
   "source": [
    "dict_models = batch_classify(X_train, Y_train, X_test, Y_test)\n",
    "print(\"Not taking res name into account:\")\n",
    "pd.DataFrame.from_dict(dict_models, orient='index')"
   ]
  },
  {
   "cell_type": "code",
   "execution_count": 129,
   "metadata": {},
   "outputs": [
    {
     "name": "stdout",
     "output_type": "stream",
     "text": [
      "trained Decision Tree in 2.71 s\n",
      "trained Decision Tree  with max depth = 5 in 1.71 s\n",
      "trained Decision Tree  with max depth = 10 in 2.30 s\n",
      "trained Decision Tree  with max depth = 15 in 2.47 s\n",
      "Oversampling minority group:\n"
     ]
    },
    {
     "data": {
      "text/html": [
       "<div>\n",
       "<style scoped>\n",
       "    .dataframe tbody tr th:only-of-type {\n",
       "        vertical-align: middle;\n",
       "    }\n",
       "\n",
       "    .dataframe tbody tr th {\n",
       "        vertical-align: top;\n",
       "    }\n",
       "\n",
       "    .dataframe thead th {\n",
       "        text-align: right;\n",
       "    }\n",
       "</style>\n",
       "<table border=\"1\" class=\"dataframe\">\n",
       "  <thead>\n",
       "    <tr style=\"text-align: right;\">\n",
       "      <th></th>\n",
       "      <th>model</th>\n",
       "      <th>train_score</th>\n",
       "      <th>test_score</th>\n",
       "      <th>recall_score</th>\n",
       "      <th>precision_score</th>\n",
       "      <th>train_time</th>\n",
       "    </tr>\n",
       "  </thead>\n",
       "  <tbody>\n",
       "    <tr>\n",
       "      <th>Decision Tree</th>\n",
       "      <td>Decision Tree</td>\n",
       "      <td>0.900033</td>\n",
       "      <td>0.866936</td>\n",
       "      <td>0.851989</td>\n",
       "      <td>0.509585</td>\n",
       "      <td>2.713906</td>\n",
       "    </tr>\n",
       "    <tr>\n",
       "      <th>Decision Tree  with max depth = 10</th>\n",
       "      <td>Decision Tree  with max depth = 10</td>\n",
       "      <td>0.690284</td>\n",
       "      <td>0.719253</td>\n",
       "      <td>0.633218</td>\n",
       "      <td>0.274277</td>\n",
       "      <td>2.304730</td>\n",
       "    </tr>\n",
       "    <tr>\n",
       "      <th>Decision Tree  with max depth = 15</th>\n",
       "      <td>Decision Tree  with max depth = 15</td>\n",
       "      <td>0.748020</td>\n",
       "      <td>0.754423</td>\n",
       "      <td>0.697403</td>\n",
       "      <td>0.319732</td>\n",
       "      <td>2.466140</td>\n",
       "    </tr>\n",
       "    <tr>\n",
       "      <th>Decision Tree  with max depth = 5</th>\n",
       "      <td>Decision Tree  with max depth = 5</td>\n",
       "      <td>0.659049</td>\n",
       "      <td>0.687462</td>\n",
       "      <td>0.615631</td>\n",
       "      <td>0.245784</td>\n",
       "      <td>1.705558</td>\n",
       "    </tr>\n",
       "  </tbody>\n",
       "</table>\n",
       "</div>"
      ],
      "text/plain": [
       "                                                                 model  \\\n",
       "Decision Tree                                            Decision Tree   \n",
       "Decision Tree  with max depth = 10  Decision Tree  with max depth = 10   \n",
       "Decision Tree  with max depth = 15  Decision Tree  with max depth = 15   \n",
       "Decision Tree  with max depth = 5    Decision Tree  with max depth = 5   \n",
       "\n",
       "                                    train_score  test_score  recall_score  \\\n",
       "Decision Tree                          0.900033    0.866936      0.851989   \n",
       "Decision Tree  with max depth = 10     0.690284    0.719253      0.633218   \n",
       "Decision Tree  with max depth = 15     0.748020    0.754423      0.697403   \n",
       "Decision Tree  with max depth = 5      0.659049    0.687462      0.615631   \n",
       "\n",
       "                                    precision_score  train_time  \n",
       "Decision Tree                              0.509585    2.713906  \n",
       "Decision Tree  with max depth = 10         0.274277    2.304730  \n",
       "Decision Tree  with max depth = 15         0.319732    2.466140  \n",
       "Decision Tree  with max depth = 5          0.245784    1.705558  "
      ]
     },
     "execution_count": 129,
     "metadata": {},
     "output_type": "execute_result"
    }
   ],
   "source": [
    "dict_models = batch_classify(X_train_expanded, Y_train_expanded, X_test, Y_test)\n",
    "print(\"Oversampling minority group:\")\n",
    "pd.DataFrame.from_dict(dict_models, orient='index')"
   ]
  },
  {
   "cell_type": "code",
   "execution_count": 147,
   "metadata": {},
   "outputs": [
    {
     "name": "stdout",
     "output_type": "stream",
     "text": [
      "trained Decision Tree in 2.71 s\n",
      "trained Decision Tree with max depth = 5 in 1.61 s\n",
      "trained Decision Tree with max depth = 10 in 2.24 s\n",
      "trained Decision Tree with max depth = 15 in 2.43 s\n",
      "MAPK14 example:\n"
     ]
    },
    {
     "data": {
      "text/html": [
       "<div>\n",
       "<style scoped>\n",
       "    .dataframe tbody tr th:only-of-type {\n",
       "        vertical-align: middle;\n",
       "    }\n",
       "\n",
       "    .dataframe tbody tr th {\n",
       "        vertical-align: top;\n",
       "    }\n",
       "\n",
       "    .dataframe thead th {\n",
       "        text-align: right;\n",
       "    }\n",
       "</style>\n",
       "<table border=\"1\" class=\"dataframe\">\n",
       "  <thead>\n",
       "    <tr style=\"text-align: right;\">\n",
       "      <th></th>\n",
       "      <th>model</th>\n",
       "      <th>train_score</th>\n",
       "      <th>test_score</th>\n",
       "      <th>recall_score</th>\n",
       "      <th>precision_score</th>\n",
       "      <th>train_time</th>\n",
       "      <th>y_pred</th>\n",
       "    </tr>\n",
       "  </thead>\n",
       "  <tbody>\n",
       "    <tr>\n",
       "      <th>Decision Tree</th>\n",
       "      <td>Decision Tree</td>\n",
       "      <td>0.899723</td>\n",
       "      <td>0.818182</td>\n",
       "      <td>1.000000</td>\n",
       "      <td>0.600000</td>\n",
       "      <td>2.706844</td>\n",
       "      <td>[True, True, True, False, False, False, False,...</td>\n",
       "    </tr>\n",
       "    <tr>\n",
       "      <th>Decision Tree with max depth = 10</th>\n",
       "      <td>Decision Tree with max depth = 10</td>\n",
       "      <td>0.689443</td>\n",
       "      <td>0.818182</td>\n",
       "      <td>0.555556</td>\n",
       "      <td>0.714286</td>\n",
       "      <td>2.244574</td>\n",
       "      <td>[True, True, True, False, False, False, False,...</td>\n",
       "    </tr>\n",
       "    <tr>\n",
       "      <th>Decision Tree with max depth = 15</th>\n",
       "      <td>Decision Tree with max depth = 15</td>\n",
       "      <td>0.742760</td>\n",
       "      <td>0.787879</td>\n",
       "      <td>0.555556</td>\n",
       "      <td>0.625000</td>\n",
       "      <td>2.434776</td>\n",
       "      <td>[True, True, False, False, False, False, False...</td>\n",
       "    </tr>\n",
       "    <tr>\n",
       "      <th>Decision Tree with max depth = 5</th>\n",
       "      <td>Decision Tree with max depth = 5</td>\n",
       "      <td>0.659149</td>\n",
       "      <td>0.727273</td>\n",
       "      <td>0.222222</td>\n",
       "      <td>0.500000</td>\n",
       "      <td>1.612040</td>\n",
       "      <td>[True, True, True, False, False, False, False,...</td>\n",
       "    </tr>\n",
       "  </tbody>\n",
       "</table>\n",
       "</div>"
      ],
      "text/plain": [
       "                                                               model  \\\n",
       "Decision Tree                                          Decision Tree   \n",
       "Decision Tree with max depth = 10  Decision Tree with max depth = 10   \n",
       "Decision Tree with max depth = 15  Decision Tree with max depth = 15   \n",
       "Decision Tree with max depth = 5    Decision Tree with max depth = 5   \n",
       "\n",
       "                                   train_score  test_score  recall_score  \\\n",
       "Decision Tree                         0.899723    0.818182      1.000000   \n",
       "Decision Tree with max depth = 10     0.689443    0.818182      0.555556   \n",
       "Decision Tree with max depth = 15     0.742760    0.787879      0.555556   \n",
       "Decision Tree with max depth = 5      0.659149    0.727273      0.222222   \n",
       "\n",
       "                                   precision_score  train_time  \\\n",
       "Decision Tree                             0.600000    2.706844   \n",
       "Decision Tree with max depth = 10         0.714286    2.244574   \n",
       "Decision Tree with max depth = 15         0.625000    2.434776   \n",
       "Decision Tree with max depth = 5          0.500000    1.612040   \n",
       "\n",
       "                                                                              y_pred  \n",
       "Decision Tree                      [True, True, True, False, False, False, False,...  \n",
       "Decision Tree with max depth = 10  [True, True, True, False, False, False, False,...  \n",
       "Decision Tree with max depth = 15  [True, True, False, False, False, False, False...  \n",
       "Decision Tree with max depth = 5   [True, True, True, False, False, False, False,...  "
      ]
     },
     "execution_count": 147,
     "metadata": {},
     "output_type": "execute_result"
    }
   ],
   "source": [
    "MAPK14_dict_models = batch_classify(MAPK14_X_train_expanded, MAPK14_Y_train_expanded, MAPK14_x_test, MAPK14_y_test, include_y_pred=True)\n",
    "print(\"MAPK14 example:\")\n",
    "pd.DataFrame.from_dict(MAPK14_dict_models, orient='index')\n",
    "# print(Y_pred)\n",
    "# print(\"Predicted number of flexible residues\", np.sum(Y_pred))\n",
    "# print(MAPK14_y_test)\n",
    "# print(\"Actual number of flexible residues\", np.sum(MAPK14_y_test))"
   ]
  },
  {
   "cell_type": "code",
   "execution_count": 148,
   "metadata": {},
   "outputs": [
    {
     "name": "stdout",
     "output_type": "stream",
     "text": [
      "trained Decision Tree in 2.60 s\n",
      "trained Decision Tree with max depth = 5 in 1.50 s\n",
      "trained Decision Tree with max depth = 10 in 2.24 s\n",
      "trained Decision Tree with max depth = 15 in 2.42 s\n",
      "MAPK14 example:\n"
     ]
    },
    {
     "data": {
      "text/html": [
       "<div>\n",
       "<style scoped>\n",
       "    .dataframe tbody tr th:only-of-type {\n",
       "        vertical-align: middle;\n",
       "    }\n",
       "\n",
       "    .dataframe tbody tr th {\n",
       "        vertical-align: top;\n",
       "    }\n",
       "\n",
       "    .dataframe thead th {\n",
       "        text-align: right;\n",
       "    }\n",
       "</style>\n",
       "<table border=\"1\" class=\"dataframe\">\n",
       "  <thead>\n",
       "    <tr style=\"text-align: right;\">\n",
       "      <th></th>\n",
       "      <th>model</th>\n",
       "      <th>train_score</th>\n",
       "      <th>test_score</th>\n",
       "      <th>recall_score</th>\n",
       "      <th>precision_score</th>\n",
       "      <th>train_time</th>\n",
       "      <th>y_pred</th>\n",
       "    </tr>\n",
       "  </thead>\n",
       "  <tbody>\n",
       "    <tr>\n",
       "      <th>Decision Tree</th>\n",
       "      <td>Decision Tree</td>\n",
       "      <td>0.899487</td>\n",
       "      <td>0.636364</td>\n",
       "      <td>0.000000</td>\n",
       "      <td>0.000000</td>\n",
       "      <td>2.602130</td>\n",
       "      <td>[False, False, False, False, False, False, Fal...</td>\n",
       "    </tr>\n",
       "    <tr>\n",
       "      <th>Decision Tree with max depth = 10</th>\n",
       "      <td>Decision Tree with max depth = 10</td>\n",
       "      <td>0.690411</td>\n",
       "      <td>0.696970</td>\n",
       "      <td>0.111111</td>\n",
       "      <td>0.333333</td>\n",
       "      <td>2.241250</td>\n",
       "      <td>[True, True, False, False, False, False, False...</td>\n",
       "    </tr>\n",
       "    <tr>\n",
       "      <th>Decision Tree with max depth = 15</th>\n",
       "      <td>Decision Tree with max depth = 15</td>\n",
       "      <td>0.748418</td>\n",
       "      <td>0.727273</td>\n",
       "      <td>0.111111</td>\n",
       "      <td>0.500000</td>\n",
       "      <td>2.424904</td>\n",
       "      <td>[False, True, False, False, False, False, Fals...</td>\n",
       "    </tr>\n",
       "    <tr>\n",
       "      <th>Decision Tree with max depth = 5</th>\n",
       "      <td>Decision Tree with max depth = 5</td>\n",
       "      <td>0.658858</td>\n",
       "      <td>0.727273</td>\n",
       "      <td>0.111111</td>\n",
       "      <td>0.500000</td>\n",
       "      <td>1.501172</td>\n",
       "      <td>[False, True, False, False, False, False, Fals...</td>\n",
       "    </tr>\n",
       "  </tbody>\n",
       "</table>\n",
       "</div>"
      ],
      "text/plain": [
       "                                                               model  \\\n",
       "Decision Tree                                          Decision Tree   \n",
       "Decision Tree with max depth = 10  Decision Tree with max depth = 10   \n",
       "Decision Tree with max depth = 15  Decision Tree with max depth = 15   \n",
       "Decision Tree with max depth = 5    Decision Tree with max depth = 5   \n",
       "\n",
       "                                   train_score  test_score  recall_score  \\\n",
       "Decision Tree                         0.899487    0.636364      0.000000   \n",
       "Decision Tree with max depth = 10     0.690411    0.696970      0.111111   \n",
       "Decision Tree with max depth = 15     0.748418    0.727273      0.111111   \n",
       "Decision Tree with max depth = 5      0.658858    0.727273      0.111111   \n",
       "\n",
       "                                   precision_score  train_time  \\\n",
       "Decision Tree                             0.000000    2.602130   \n",
       "Decision Tree with max depth = 10         0.333333    2.241250   \n",
       "Decision Tree with max depth = 15         0.500000    2.424904   \n",
       "Decision Tree with max depth = 5          0.500000    1.501172   \n",
       "\n",
       "                                                                              y_pred  \n",
       "Decision Tree                      [False, False, False, False, False, False, Fal...  \n",
       "Decision Tree with max depth = 10  [True, True, False, False, False, False, False...  \n",
       "Decision Tree with max depth = 15  [False, True, False, False, False, False, Fals...  \n",
       "Decision Tree with max depth = 5   [False, True, False, False, False, False, Fals...  "
      ]
     },
     "execution_count": 148,
     "metadata": {},
     "output_type": "execute_result"
    }
   ],
   "source": [
    "no_MAPK14_dict_models = batch_classify(no_MAPK14_X_train_expanded, no_MAPK14_Y_train_expanded, MAPK14_x_test, MAPK14_y_test, include_y_pred=True)\n",
    "print(\"MAPK14 example:\")\n",
    "pd.DataFrame.from_dict(no_MAPK14_dict_models, orient='index')\n",
    "# print(no_MAPK14_Y_pred)\n",
    "# print(\"Predicted number of flexible residues\", np.sum(no_MAPK14_Y_pred))\n",
    "# print(MAPK14_y_test)\n",
    "# print(\"Actual number of flexible residues\", np.sum(MAPK14_y_test))"
   ]
  },
  {
   "cell_type": "code",
   "execution_count": 133,
   "metadata": {},
   "outputs": [
    {
     "name": "stdout",
     "output_type": "stream",
     "text": [
      "trained Decision Tree in 2.60 s\n",
      "trained Decision Tree  with max depth = 5 in 1.48 s\n",
      "trained Decision Tree  with max depth = 10 in 2.31 s\n",
      "trained Decision Tree  with max depth = 15 in 2.37 s\n",
      "Testing on all of MAPK14 without MAPK14 in train set:\n"
     ]
    },
    {
     "data": {
      "text/html": [
       "<div>\n",
       "<style scoped>\n",
       "    .dataframe tbody tr th:only-of-type {\n",
       "        vertical-align: middle;\n",
       "    }\n",
       "\n",
       "    .dataframe tbody tr th {\n",
       "        vertical-align: top;\n",
       "    }\n",
       "\n",
       "    .dataframe thead th {\n",
       "        text-align: right;\n",
       "    }\n",
       "</style>\n",
       "<table border=\"1\" class=\"dataframe\">\n",
       "  <thead>\n",
       "    <tr style=\"text-align: right;\">\n",
       "      <th></th>\n",
       "      <th>model</th>\n",
       "      <th>train_score</th>\n",
       "      <th>test_score</th>\n",
       "      <th>recall_score</th>\n",
       "      <th>precision_score</th>\n",
       "      <th>train_time</th>\n",
       "    </tr>\n",
       "  </thead>\n",
       "  <tbody>\n",
       "    <tr>\n",
       "      <th>Decision Tree</th>\n",
       "      <td>Decision Tree</td>\n",
       "      <td>0.899487</td>\n",
       "      <td>0.676834</td>\n",
       "      <td>0.333221</td>\n",
       "      <td>0.348780</td>\n",
       "      <td>2.598572</td>\n",
       "    </tr>\n",
       "    <tr>\n",
       "      <th>Decision Tree  with max depth = 10</th>\n",
       "      <td>Decision Tree  with max depth = 10</td>\n",
       "      <td>0.690411</td>\n",
       "      <td>0.699797</td>\n",
       "      <td>0.545792</td>\n",
       "      <td>0.423440</td>\n",
       "      <td>2.311296</td>\n",
       "    </tr>\n",
       "    <tr>\n",
       "      <th>Decision Tree  with max depth = 15</th>\n",
       "      <td>Decision Tree  with max depth = 15</td>\n",
       "      <td>0.748418</td>\n",
       "      <td>0.689968</td>\n",
       "      <td>0.443055</td>\n",
       "      <td>0.394642</td>\n",
       "      <td>2.369398</td>\n",
       "    </tr>\n",
       "    <tr>\n",
       "      <th>Decision Tree  with max depth = 5</th>\n",
       "      <td>Decision Tree  with max depth = 5</td>\n",
       "      <td>0.658858</td>\n",
       "      <td>0.708693</td>\n",
       "      <td>0.531599</td>\n",
       "      <td>0.433931</td>\n",
       "      <td>1.483190</td>\n",
       "    </tr>\n",
       "  </tbody>\n",
       "</table>\n",
       "</div>"
      ],
      "text/plain": [
       "                                                                 model  \\\n",
       "Decision Tree                                            Decision Tree   \n",
       "Decision Tree  with max depth = 10  Decision Tree  with max depth = 10   \n",
       "Decision Tree  with max depth = 15  Decision Tree  with max depth = 15   \n",
       "Decision Tree  with max depth = 5    Decision Tree  with max depth = 5   \n",
       "\n",
       "                                    train_score  test_score  recall_score  \\\n",
       "Decision Tree                          0.899487    0.676834      0.333221   \n",
       "Decision Tree  with max depth = 10     0.690411    0.699797      0.545792   \n",
       "Decision Tree  with max depth = 15     0.748418    0.689968      0.443055   \n",
       "Decision Tree  with max depth = 5      0.658858    0.708693      0.531599   \n",
       "\n",
       "                                    precision_score  train_time  \n",
       "Decision Tree                              0.348780    2.598572  \n",
       "Decision Tree  with max depth = 10         0.423440    2.311296  \n",
       "Decision Tree  with max depth = 15         0.394642    2.369398  \n",
       "Decision Tree  with max depth = 5          0.433931    1.483190  "
      ]
     },
     "execution_count": 133,
     "metadata": {},
     "output_type": "execute_result"
    }
   ],
   "source": [
    "dict_models = batch_classify(no_MAPK14_X_train_expanded, no_MAPK14_Y_train_expanded, no_MAPK14_x_test, no_MAPK14_y_test, no_classifiers = 8)\n",
    "print(\"Testing on all of MAPK14 without MAPK14 in train set:\")\n",
    "pd.DataFrame.from_dict(dict_models, orient='index')\n"
   ]
  },
  {
   "cell_type": "code",
   "execution_count": 144,
   "metadata": {},
   "outputs": [
    {
     "data": {
      "image/png": "[encoded data removed]",
      "text/plain": [
       "<Figure size 720x216 with 1 Axes>"
      ]
     },
     "metadata": {
      "needs_background": "light"
     },
     "output_type": "display_data"
    },
    {
     "data": {
      "image/png": "[encoded data removed]",
      "text/plain": [
       "<Figure size 720x216 with 1 Axes>"
      ]
     },
     "metadata": {
      "needs_background": "light"
     },
     "output_type": "display_data"
    },
    {
     "data": {
      "image/png": "[encoded data removed]",
      "text/plain": [
       "<Figure size 720x216 with 1 Axes>"
      ]
     },
     "metadata": {
      "needs_background": "light"
     },
     "output_type": "display_data"
    },
    {
     "data": {
      "image/png": "[encoded data removed]",
      "text/plain": [
       "<Figure size 720x216 with 1 Axes>"
      ]
     },
     "metadata": {
      "needs_background": "light"
     },
     "output_type": "display_data"
    }
   ],
   "source": [
    "selected = test.loc[(test['start ligand'] == '2YIX') & (test['target ligand'] == '3D83')]\n",
    "rmsd = np.array(selected['rmsd'])\n",
    "rmsd[rmsd > 8] = 8\n",
    "rmsd_formatted = np.expand_dims(rmsd, axis=0)\n",
    "sns.set_context(\"talk\", font_scale=1.0)\n",
    "\n",
    "plt.imshow(rmsd_formatted, cmap=\"plasma\", interpolation='none')\n",
    "\n",
    "fig = plt.gcf()\n",
    "fig.set_size_inches(10,3)\n",
    "\n",
    "ax = plt.gca()\n",
    "labels = [r for r in selected['res name']]\n",
    "plt.xticks(np.arange(0,len(selected)),labels)\n",
    "plt.yticks([],[])\n",
    "ax.tick_params(axis=u'both', which=u'both',length=0)\n",
    "ax.tick_params(axis='both', labelsize=5.5)\n",
    "\n",
    "#plt.colorbar()\n",
    "plt.title('Decision Tree no level limit')\n",
    "plt.show()\n",
    "\n",
    "bin_rmsd_formatted = np.expand_dims(MAPK14_y_test, axis=0)\n",
    "sns.set_context(\"talk\", font_scale=1.0)\n",
    "plt.imshow(bin_rmsd_formatted, cmap=\"plasma\", interpolation='none')\n",
    "fig = plt.gcf()\n",
    "fig.set_size_inches(10,3)\n",
    "\n",
    "ax = plt.gca()\n",
    "labels = [r for r in selected['res name']]\n",
    "plt.xticks(np.arange(0,len(selected)),labels)\n",
    "plt.yticks([],[])\n",
    "ax.tick_params(axis=u'both', which=u'both',length=0)\n",
    "ax.tick_params(axis='both', labelsize=5.5)\n",
    "\n",
    "#plt.colorbar()\n",
    "plt.show()\n",
    "\n",
    "bin_pred_rmsd_formatted = np.expand_dims(MAPK14_dict_models['Decision Tree']['y_pred'], axis=0)\n",
    "sns.set_context(\"talk\", font_scale=1.0)\n",
    "plt.imshow(bin_pred_rmsd_formatted, cmap=\"plasma\", interpolation='none')\n",
    "fig = plt.gcf()\n",
    "fig.set_size_inches(10,3)\n",
    "\n",
    "ax = plt.gca()\n",
    "labels = [r for r in selected['res name']]\n",
    "plt.xticks(np.arange(0,len(selected)),labels)\n",
    "plt.yticks([],[])\n",
    "ax.tick_params(axis=u'both', which=u'both',length=0)\n",
    "ax.tick_params(axis='both', labelsize=5.5)\n",
    "\n",
    "#plt.colorbar()\n",
    "plt.show()\n",
    "\n",
    "bin_pred_rmsd_formatted = np.expand_dims(no_MAPK14_dict_models['Decision Tree']['y_pred'], axis=0)\n",
    "sns.set_context(\"talk\", font_scale=1.0)\n",
    "plt.imshow(bin_pred_rmsd_formatted, cmap=\"plasma\", interpolation='none')\n",
    "fig = plt.gcf()\n",
    "fig.set_size_inches(10,3)\n",
    "\n",
    "ax = plt.gca()\n",
    "labels = [r for r in selected['res name']]\n",
    "plt.xticks(np.arange(0,len(selected)),labels)\n",
    "plt.yticks([],[])\n",
    "ax.tick_params(axis=u'both', which=u'both',length=0)\n",
    "ax.tick_params(axis='both', labelsize=5.5)\n",
    "\n",
    "#plt.colorbar()\n",
    "plt.show()"
   ]
  },
  {
   "cell_type": "code",
   "execution_count": 149,
   "metadata": {},
   "outputs": [
    {
     "data": {
      "image/png": "[encoded data removed]",
      "text/plain": [
       "<Figure size 720x216 with 1 Axes>"
      ]
     },
     "metadata": {
      "needs_background": "light"
     },
     "output_type": "display_data"
    },
    {
     "data": {
      "image/png": "[encoded data removed]",
      "text/plain": [
       "<Figure size 720x216 with 1 Axes>"
      ]
     },
     "metadata": {
      "needs_background": "light"
     },
     "output_type": "display_data"
    },
    {
     "data": {
      "image/png": "[encoded data removed]",
      "text/plain": [
       "<Figure size 720x216 with 1 Axes>"
      ]
     },
     "metadata": {
      "needs_background": "light"
     },
     "output_type": "display_data"
    },
    {
     "data": {
      "image/png": "[encoded data removed]",
      "text/plain": [
       "<Figure size 720x216 with 1 Axes>"
      ]
     },
     "metadata": {
      "needs_background": "light"
     },
     "output_type": "display_data"
    }
   ],
   "source": [
    "selected = test.loc[(test['start ligand'] == '2YIX') & (test['target ligand'] == '3D83')]\n",
    "rmsd = np.array(selected['rmsd'])\n",
    "rmsd[rmsd > 8] = 8\n",
    "rmsd_formatted = np.expand_dims(rmsd, axis=0)\n",
    "sns.set_context(\"talk\", font_scale=1.0)\n",
    "\n",
    "plt.imshow(rmsd_formatted, cmap=\"plasma\", interpolation='none')\n",
    "\n",
    "fig = plt.gcf()\n",
    "fig.set_size_inches(10,3)\n",
    "\n",
    "ax = plt.gca()\n",
    "labels = [r for r in selected['res name']]\n",
    "plt.xticks(np.arange(0,len(selected)),labels)\n",
    "plt.yticks([],[])\n",
    "ax.tick_params(axis=u'both', which=u'both',length=0)\n",
    "ax.tick_params(axis='both', labelsize=5.5)\n",
    "\n",
    "#plt.colorbar()\n",
    "plt.title('Decision Tree with max depth = 5')\n",
    "plt.show()\n",
    "\n",
    "bin_rmsd_formatted = np.expand_dims(MAPK14_y_test, axis=0)\n",
    "sns.set_context(\"talk\", font_scale=1.0)\n",
    "plt.imshow(bin_rmsd_formatted, cmap=\"plasma\", interpolation='none')\n",
    "fig = plt.gcf()\n",
    "fig.set_size_inches(10,3)\n",
    "\n",
    "ax = plt.gca()\n",
    "labels = [r for r in selected['res name']]\n",
    "plt.xticks(np.arange(0,len(selected)),labels)\n",
    "plt.yticks([],[])\n",
    "ax.tick_params(axis=u'both', which=u'both',length=0)\n",
    "ax.tick_params(axis='both', labelsize=5.5)\n",
    "\n",
    "#plt.colorbar()\n",
    "plt.show()\n",
    "\n",
    "bin_pred_rmsd_formatted = np.expand_dims(MAPK14_dict_models['Decision Tree with max depth = 5']['y_pred'], axis=0)\n",
    "sns.set_context(\"talk\", font_scale=1.0)\n",
    "plt.imshow(bin_pred_rmsd_formatted, cmap=\"plasma\", interpolation='none')\n",
    "fig = plt.gcf()\n",
    "fig.set_size_inches(10,3)\n",
    "\n",
    "ax = plt.gca()\n",
    "labels = [r for r in selected['res name']]\n",
    "plt.xticks(np.arange(0,len(selected)),labels)\n",
    "plt.yticks([],[])\n",
    "ax.tick_params(axis=u'both', which=u'both',length=0)\n",
    "ax.tick_params(axis='both', labelsize=5.5)\n",
    "\n",
    "#plt.colorbar()\n",
    "plt.show()\n",
    "\n",
    "bin_pred_rmsd_formatted = np.expand_dims(no_MAPK14_dict_models['Decision Tree with max depth = 5']['y_pred'], axis=0)\n",
    "sns.set_context(\"talk\", font_scale=1.0)\n",
    "plt.imshow(bin_pred_rmsd_formatted, cmap=\"plasma\", interpolation='none')\n",
    "fig = plt.gcf()\n",
    "fig.set_size_inches(10,3)\n",
    "\n",
    "ax = plt.gca()\n",
    "labels = [r for r in selected['res name']]\n",
    "plt.xticks(np.arange(0,len(selected)),labels)\n",
    "plt.yticks([],[])\n",
    "ax.tick_params(axis=u'both', which=u'both',length=0)\n",
    "ax.tick_params(axis='both', labelsize=5.5)\n",
    "\n",
    "#plt.colorbar()\n",
    "plt.show()"
   ]
  },
  {
   "cell_type": "code",
   "execution_count": 150,
   "metadata": {},
   "outputs": [
    {
     "data": {
      "image/png": "[encoded data removed]",
      "text/plain": [
       "<Figure size 720x216 with 1 Axes>"
      ]
     },
     "metadata": {
      "needs_background": "light"
     },
     "output_type": "display_data"
    },
    {
     "data": {
      "image/png": "[encoded data removed]",
      "text/plain": [
       "<Figure size 720x216 with 1 Axes>"
      ]
     },
     "metadata": {
      "needs_background": "light"
     },
     "output_type": "display_data"
    },
    {
     "data": {
      "image/png": "[encoded data removed]",
      "text/plain": [
       "<Figure size 720x216 with 1 Axes>"
      ]
     },
     "metadata": {
      "needs_background": "light"
     },
     "output_type": "display_data"
    },
    {
     "data": {
      "image/png": "[encoded data removed]",
      "text/plain": [
       "<Figure size 720x216 with 1 Axes>"
      ]
     },
     "metadata": {
      "needs_background": "light"
     },
     "output_type": "display_data"
    }
   ],
   "source": [
    "selected = test.loc[(test['start ligand'] == '2YIX') & (test['target ligand'] == '3D83')]\n",
    "rmsd = np.array(selected['rmsd'])\n",
    "rmsd[rmsd > 8] = 8\n",
    "rmsd_formatted = np.expand_dims(rmsd, axis=0)\n",
    "sns.set_context(\"talk\", font_scale=1.0)\n",
    "\n",
    "plt.imshow(rmsd_formatted, cmap=\"plasma\", interpolation='none')\n",
    "\n",
    "fig = plt.gcf()\n",
    "fig.set_size_inches(10,3)\n",
    "\n",
    "ax = plt.gca()\n",
    "labels = [r for r in selected['res name']]\n",
    "plt.xticks(np.arange(0,len(selected)),labels)\n",
    "plt.yticks([],[])\n",
    "ax.tick_params(axis=u'both', which=u'both',length=0)\n",
    "ax.tick_params(axis='both', labelsize=5.5)\n",
    "\n",
    "#plt.colorbar()\n",
    "plt.title('Decision Tree with max depth = 10')\n",
    "plt.show()\n",
    "\n",
    "bin_rmsd_formatted = np.expand_dims(MAPK14_y_test, axis=0)\n",
    "sns.set_context(\"talk\", font_scale=1.0)\n",
    "plt.imshow(bin_rmsd_formatted, cmap=\"plasma\", interpolation='none')\n",
    "fig = plt.gcf()\n",
    "fig.set_size_inches(10,3)\n",
    "\n",
    "ax = plt.gca()\n",
    "labels = [r for r in selected['res name']]\n",
    "plt.xticks(np.arange(0,len(selected)),labels)\n",
    "plt.yticks([],[])\n",
    "ax.tick_params(axis=u'both', which=u'both',length=0)\n",
    "ax.tick_params(axis='both', labelsize=5.5)\n",
    "\n",
    "#plt.colorbar()\n",
    "plt.show()\n",
    "\n",
    "bin_pred_rmsd_formatted = np.expand_dims(MAPK14_dict_models['Decision Tree with max depth = 10']['y_pred'], axis=0)\n",
    "sns.set_context(\"talk\", font_scale=1.0)\n",
    "plt.imshow(bin_pred_rmsd_formatted, cmap=\"plasma\", interpolation='none')\n",
    "fig = plt.gcf()\n",
    "fig.set_size_inches(10,3)\n",
    "\n",
    "ax = plt.gca()\n",
    "labels = [r for r in selected['res name']]\n",
    "plt.xticks(np.arange(0,len(selected)),labels)\n",
    "plt.yticks([],[])\n",
    "ax.tick_params(axis=u'both', which=u'both',length=0)\n",
    "ax.tick_params(axis='both', labelsize=5.5)\n",
    "\n",
    "#plt.colorbar()\n",
    "plt.show()\n",
    "\n",
    "bin_pred_rmsd_formatted = np.expand_dims(no_MAPK14_dict_models['Decision Tree with max depth = 10']['y_pred'], axis=0)\n",
    "sns.set_context(\"talk\", font_scale=1.0)\n",
    "plt.imshow(bin_pred_rmsd_formatted, cmap=\"plasma\", interpolation='none')\n",
    "fig = plt.gcf()\n",
    "fig.set_size_inches(10,3)\n",
    "\n",
    "ax = plt.gca()\n",
    "labels = [r for r in selected['res name']]\n",
    "plt.xticks(np.arange(0,len(selected)),labels)\n",
    "plt.yticks([],[])\n",
    "ax.tick_params(axis=u'both', which=u'both',length=0)\n",
    "ax.tick_params(axis='both', labelsize=5.5)\n",
    "\n",
    "#plt.colorbar()\n",
    "plt.show()"
   ]
  },
  {
   "cell_type": "code",
   "execution_count": 151,
   "metadata": {},
   "outputs": [
    {
     "data": {
      "image/png": "[encoded data removed]",
      "text/plain": [
       "<Figure size 720x216 with 1 Axes>"
      ]
     },
     "metadata": {
      "needs_background": "light"
     },
     "output_type": "display_data"
    },
    {
     "data": {
      "image/png": "[encoded data removed]",
      "text/plain": [
       "<Figure size 720x216 with 1 Axes>"
      ]
     },
     "metadata": {
      "needs_background": "light"
     },
     "output_type": "display_data"
    },
    {
     "data": {
      "image/png": "[encoded data removed]",
      "text/plain": [
       "<Figure size 720x216 with 1 Axes>"
      ]
     },
     "metadata": {
      "needs_background": "light"
     },
     "output_type": "display_data"
    },
    {
     "data": {
      "image/png": "[encoded data removed]",
      "text/plain": [
       "<Figure size 720x216 with 1 Axes>"
      ]
     },
     "metadata": {
      "needs_background": "light"
     },
     "output_type": "display_data"
    }
   ],
   "source": [
    "selected = test.loc[(test['start ligand'] == '2YIX') & (test['target ligand'] == '3D83')]\n",
    "rmsd = np.array(selected['rmsd'])\n",
    "rmsd[rmsd > 8] = 8\n",
    "rmsd_formatted = np.expand_dims(rmsd, axis=0)\n",
    "sns.set_context(\"talk\", font_scale=1.0)\n",
    "\n",
    "plt.imshow(rmsd_formatted, cmap=\"plasma\", interpolation='none')\n",
    "\n",
    "fig = plt.gcf()\n",
    "fig.set_size_inches(10,3)\n",
    "\n",
    "ax = plt.gca()\n",
    "labels = [r for r in selected['res name']]\n",
    "plt.xticks(np.arange(0,len(selected)),labels)\n",
    "plt.yticks([],[])\n",
    "ax.tick_params(axis=u'both', which=u'both',length=0)\n",
    "ax.tick_params(axis='both', labelsize=5.5)\n",
    "\n",
    "#plt.colorbar()\n",
    "plt.title('Decision Tree with max depth = 15')\n",
    "plt.show()\n",
    "\n",
    "bin_rmsd_formatted = np.expand_dims(MAPK14_y_test, axis=0)\n",
    "sns.set_context(\"talk\", font_scale=1.0)\n",
    "plt.imshow(bin_rmsd_formatted, cmap=\"plasma\", interpolation='none')\n",
    "fig = plt.gcf()\n",
    "fig.set_size_inches(10,3)\n",
    "\n",
    "ax = plt.gca()\n",
    "labels = [r for r in selected['res name']]\n",
    "plt.xticks(np.arange(0,len(selected)),labels)\n",
    "plt.yticks([],[])\n",
    "ax.tick_params(axis=u'both', which=u'both',length=0)\n",
    "ax.tick_params(axis='both', labelsize=5.5)\n",
    "\n",
    "#plt.colorbar()\n",
    "plt.show()\n",
    "\n",
    "bin_pred_rmsd_formatted = np.expand_dims(MAPK14_dict_models['Decision Tree with max depth = 15']['y_pred'], axis=0)\n",
    "sns.set_context(\"talk\", font_scale=1.0)\n",
    "plt.imshow(bin_pred_rmsd_formatted, cmap=\"plasma\", interpolation='none')\n",
    "fig = plt.gcf()\n",
    "fig.set_size_inches(10,3)\n",
    "\n",
    "ax = plt.gca()\n",
    "labels = [r for r in selected['res name']]\n",
    "plt.xticks(np.arange(0,len(selected)),labels)\n",
    "plt.yticks([],[])\n",
    "ax.tick_params(axis=u'both', which=u'both',length=0)\n",
    "ax.tick_params(axis='both', labelsize=5.5)\n",
    "\n",
    "#plt.colorbar()\n",
    "plt.show()\n",
    "\n",
    "bin_pred_rmsd_formatted = np.expand_dims(no_MAPK14_dict_models['Decision Tree with max depth = 15']['y_pred'], axis=0)\n",
    "sns.set_context(\"talk\", font_scale=1.0)\n",
    "plt.imshow(bin_pred_rmsd_formatted, cmap=\"plasma\", interpolation='none')\n",
    "fig = plt.gcf()\n",
    "fig.set_size_inches(10,3)\n",
    "\n",
    "ax = plt.gca()\n",
    "labels = [r for r in selected['res name']]\n",
    "plt.xticks(np.arange(0,len(selected)),labels)\n",
    "plt.yticks([],[])\n",
    "ax.tick_params(axis=u'both', which=u'both',length=0)\n",
    "ax.tick_params(axis='both', labelsize=5.5)\n",
    "\n",
    "#plt.colorbar()\n",
    "plt.show()"
   ]
  },
  {
   "cell_type": "code",
   "execution_count": null,
   "metadata": {},
   "outputs": [],
   "source": []
  }
 ],
 "metadata": {
  "kernelspec": {
   "display_name": "Python 3",
   "language": "python",
   "name": "python3"
  },
  "language_info": {
   "codemirror_mode": {
    "name": "ipython",
    "version": 3
   },
   "file_extension": ".py",
   "mimetype": "text/x-python",
   "name": "python",
   "nbconvert_exporter": "python",
   "pygments_lexer": "ipython3",
   "version": "3.7.3"
  }
 },
 "nbformat": 4,
 "nbformat_minor": 2
}

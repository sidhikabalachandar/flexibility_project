{
 "cells": [
  {
   "cell_type": "code",
   "execution_count": 7,
   "metadata": {},
   "outputs": [],
   "source": [
    "import pickle\n",
    "import pandas as pd\n",
    "import statistics\n",
    "\n",
    "infile = open('../Data/MAPK14_mut_cutoff_2/mut2','rb')\n",
    "mut2_set = pickle.load(infile)\n",
    "infile.close()\n",
    "\n",
    "infile = open('../Data/MAPK14_mut_cutoff_4/mut4','rb')\n",
    "mut4_set = pickle.load(infile)\n",
    "infile.close()\n",
    "\n",
    "conflict_set = {}\n",
    "for start in mut2_set:\n",
    "    infile = open('../Data/conflict/' + start,'rb')\n",
    "    conflict_lig_set = pickle.load(infile)\n",
    "    infile.close()\n",
    "    conflict_set.update(conflict_lig_set)\n",
    "    \n",
    "infile = open('../Data/MAPK14_mut_pred/pred','rb')\n",
    "pred_set = pickle.load(infile)\n",
    "infile.close()"
   ]
  },
  {
   "cell_type": "code",
   "execution_count": 8,
   "metadata": {},
   "outputs": [
    {
     "name": "stdout",
     "output_type": "stream",
     "text": [
      "Average number of mutated residues:\n",
      "Mut2 6.726153846153846\n",
      "Mut4 1.8369230769230769\n",
      "Conflict 4.5430769230769235\n",
      "Pred 5.466153846153846\n"
     ]
    }
   ],
   "source": [
    "mut2_avg = []\n",
    "mut4_avg = []\n",
    "conflict_avg = []\n",
    "pred_avg = []\n",
    "\n",
    "for start in mut2_set:\n",
    "    mut2_start_count = []\n",
    "    mut4_start_count = []\n",
    "    conflict_start_count = []\n",
    "    pred_start_count = []\n",
    "    for target in mut2_set[start]:\n",
    "        mut2_start_count.append(len(mut2_set[start][target]))\n",
    "        mut4_start_count.append(len(mut4_set[start][target]))\n",
    "        conflict_start_count.append(len(conflict_set[start][target]))\n",
    "        pred_start_count.append(len(pred_set[start][target]))\n",
    "    mut2_avg.append(statistics.mean(mut2_start_count))\n",
    "    mut4_avg.append(statistics.mean(mut4_start_count))\n",
    "    conflict_avg.append(statistics.mean(conflict_start_count))\n",
    "    pred_avg.append(statistics.mean(pred_start_count))\n",
    "\n",
    "print(\"Average number of mutated residues:\")\n",
    "print(\"Mut2\", statistics.mean(mut2_avg))\n",
    "print(\"Mut4\", statistics.mean(mut4_avg))\n",
    "print(\"Conflict\", statistics.mean(conflict_avg))\n",
    "print(\"Pred\", statistics.mean(pred_avg))"
   ]
  },
  {
   "cell_type": "code",
   "execution_count": null,
   "metadata": {},
   "outputs": [],
   "source": []
  }
 ],
 "metadata": {
  "kernelspec": {
   "display_name": "Python 3",
   "language": "python",
   "name": "python3"
  },
  "language_info": {
   "codemirror_mode": {
    "name": "ipython",
    "version": 3
   },
   "file_extension": ".py",
   "mimetype": "text/x-python",
   "name": "python",
   "nbconvert_exporter": "python",
   "pygments_lexer": "ipython3",
   "version": "3.7.3"
  }
 },
 "nbformat": 4,
 "nbformat_minor": 2
}

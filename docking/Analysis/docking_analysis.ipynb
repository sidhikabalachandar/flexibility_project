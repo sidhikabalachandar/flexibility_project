{
 "cells": [
  {
   "cell_type": "code",
   "execution_count": 2,
   "metadata": {
    "collapsed": false,
    "deletable": true,
    "editable": true
   },
   "outputs": [
    {
     "name": "stdout",
     "output_type": "stream",
     "text": [
      "Self Docking Accuracy: 84.61538461538461\n",
      "Cross Docking Accuracy: 22.76923076923077\n",
      "Self Docking Average RMSD: 1.2839263087506039\n",
      "Cross Docking Average RMSD: 8.438739922548754\n"
     ]
    },
    {
     "ename": "NameError",
     "evalue": "name 'min_protein' is not defined",
     "output_type": "error",
     "traceback": [
      "\u001b[0;31m---------------------------------------------------------------------------\u001b[0m",
      "\u001b[0;31mNameError\u001b[0m                                 Traceback (most recent call last)",
      "\u001b[0;32m<ipython-input-2-902a900ae7be>\u001b[0m in \u001b[0;36m<module>\u001b[0;34m\u001b[0m\n\u001b[1;32m     51\u001b[0m \u001b[0mprint\u001b[0m\u001b[0;34m(\u001b[0m\u001b[0;34m\"Self Docking Average RMSD:\"\u001b[0m\u001b[0;34m,\u001b[0m \u001b[0mself_docking_sum\u001b[0m \u001b[0;34m/\u001b[0m \u001b[0;36m26\u001b[0m\u001b[0;34m)\u001b[0m\u001b[0;34m\u001b[0m\u001b[0;34m\u001b[0m\u001b[0m\n\u001b[1;32m     52\u001b[0m \u001b[0mprint\u001b[0m\u001b[0;34m(\u001b[0m\u001b[0;34m\"Cross Docking Average RMSD:\"\u001b[0m\u001b[0;34m,\u001b[0m \u001b[0mcross_docking_sum\u001b[0m \u001b[0;34m/\u001b[0m \u001b[0;34m(\u001b[0m\u001b[0;34m(\u001b[0m\u001b[0;36m26\u001b[0m \u001b[0;34m*\u001b[0m \u001b[0;36m26\u001b[0m\u001b[0;34m)\u001b[0m \u001b[0;34m-\u001b[0m \u001b[0;36m26\u001b[0m\u001b[0;34m)\u001b[0m\u001b[0;34m)\u001b[0m\u001b[0;34m\u001b[0m\u001b[0;34m\u001b[0m\u001b[0m\n\u001b[0;32m---> 53\u001b[0;31m \u001b[0mprint\u001b[0m\u001b[0;34m(\u001b[0m\u001b[0;34m\"Cross Docking Min RMSD:\"\u001b[0m\u001b[0;34m,\u001b[0m \u001b[0mcross_docking_min\u001b[0m\u001b[0;34m,\u001b[0m \u001b[0;34m\"protein:\"\u001b[0m\u001b[0;34m,\u001b[0m \u001b[0mmin_protein\u001b[0m\u001b[0;34m,\u001b[0m \u001b[0;34m\"struc:\"\u001b[0m\u001b[0;34m,\u001b[0m \u001b[0mmin_struc\u001b[0m\u001b[0;34m,\u001b[0m \u001b[0;34m\"ligand:\"\u001b[0m\u001b[0;34m,\u001b[0m \u001b[0mmin_ligand\u001b[0m\u001b[0;34m)\u001b[0m\u001b[0;34m\u001b[0m\u001b[0;34m\u001b[0m\u001b[0m\n\u001b[0m\u001b[1;32m     54\u001b[0m \u001b[0mprint\u001b[0m\u001b[0;34m(\u001b[0m\u001b[0;34m\"Cross Docking Max RMSD:\"\u001b[0m\u001b[0;34m,\u001b[0m \u001b[0mcross_docking_max\u001b[0m\u001b[0;34m,\u001b[0m \u001b[0;34m\"protein:\"\u001b[0m\u001b[0;34m,\u001b[0m \u001b[0mmax_protein\u001b[0m\u001b[0;34m,\u001b[0m \u001b[0;34m\"struc:\"\u001b[0m\u001b[0;34m,\u001b[0m \u001b[0mmax_struc\u001b[0m\u001b[0;34m,\u001b[0m \u001b[0;34m\"ligand:\"\u001b[0m\u001b[0;34m,\u001b[0m \u001b[0mmax_ligand\u001b[0m\u001b[0;34m)\u001b[0m\u001b[0;34m\u001b[0m\u001b[0;34m\u001b[0m\u001b[0m\n",
      "\u001b[0;31mNameError\u001b[0m: name 'min_protein' is not defined"
     ]
    }
   ],
   "source": [
    "import pickle\n",
    "import pandas as pd\n",
    "import numpy as np\n",
    "import matplotlib.pyplot as plt\n",
    "\n",
    "infile = open('../Data/MAPK14_rmsds','rb')\n",
    "rmsd_set = pickle.load(infile)\n",
    "infile.close()\n",
    "\n",
    "infile = open('../Data/MAPK14_ligand_names','rb')\n",
    "ligands = pickle.load(infile)\n",
    "infile.close()\n",
    "\n",
    "counter = 0\n",
    "self_docking_count = 0\n",
    "cross_docking_count = 0\n",
    "self_docking_sum = 0\n",
    "cross_docking_sum = 0\n",
    "cross_docking_min = rmsd_set[0][0]\n",
    "cross_docking_max = rmsd_set[0][0]\n",
    "min_ligand = ''\n",
    "min_struc = ''\n",
    "max_ligand = ''\n",
    "max_struc = ''\n",
    "\n",
    "for struc in ligands:\n",
    "    for ligand in ligands:\n",
    "        if ligand == struc:\n",
    "            self_docking_sum += rmsd_set[counter][0]\n",
    "            if rmsd_set[counter][0] < 2:\n",
    "                self_docking_count += 1\n",
    "        else:\n",
    "            cross_docking_sum += rmsd_set[counter][0]\n",
    "            if rmsd_set[counter][0] < 2:\n",
    "                cross_docking_count += 1\n",
    "            if rmsd_set[counter][0] < cross_docking_min:\n",
    "                cross_docking_min = rmsd_set[counter][0]\n",
    "                min_ligand = ligand\n",
    "                min_struc = struc\n",
    "            if rmsd_set[counter][0] > cross_docking_max:\n",
    "                cross_docking_max = rmsd_set[counter][0]\n",
    "                max_ligand = ligand\n",
    "                max_struc = struc\n",
    "                \n",
    "        counter += 1\n",
    "               \n",
    "#print(\"With 4DLI:\")\n",
    "print(\"Self Docking Accuracy: \", self_docking_count * 100 / 26)\n",
    "print(\"Cross Docking Accuracy: \", cross_docking_count * 100 / ((26 * 26) - 26))      \n",
    "print(\"Self Docking Average RMSD: \", self_docking_sum / 26)\n",
    "print(\"Cross Docking Average RMSD: \", cross_docking_sum / ((26 * 26) - 26))\n",
    "print(\"Cross Docking Min RMSD: \", cross_docking_min, \" with ligand \", min_ligand, \" docked into protein \", min_struc)\n",
    "print(\"Cross Docking Max RMSD: \", cross_docking_max, \" with ligand \", max_ligand, \" docked into protein \", max_struc)"
   ]
  },
  {
   "cell_type": "markdown",
   "metadata": {
    "deletable": true,
    "editable": true
   },
   "source": [
    "ligand of 4DLI binds in a different spot than the other ligands"
   ]
  },
  {
   "cell_type": "code",
   "execution_count": null,
   "metadata": {
    "collapsed": true,
    "deletable": true,
    "editable": true
   },
   "outputs": [],
   "source": [
    "try excluding 4DLI\n",
    "create grid of ligand struc rmsds by color"
   ]
  },
  {
   "cell_type": "code",
   "execution_count": 2,
   "metadata": {
    "collapsed": false,
    "deletable": true,
    "editable": true
   },
   "outputs": [
    {
     "name": "stdout",
     "output_type": "stream",
     "text": [
      "Without 4DLI:\n",
      "Self Docking Accuracy:  88.0\n",
      "Cross Docking Accuracy:  24.666666666666668\n",
      "Self Docking Average RMSD:  1.080613375121028\n",
      "Cross Docking Average RMSD:  6.389730933099331\n",
      "Cross Docking Min RMSD:  0.212501262783  with ligand  4F9W  docked into protein  4F9Y\n",
      "Cross Docking Max RMSD:  20.0102360682  with ligand  3HUB  docked into protein  2BAJ\n"
     ]
    }
   ],
   "source": [
    "import pickle\n",
    "infile = open('../Data/MAPK14_rmsds','rb')\n",
    "rmsd_set = pickle.load(infile)\n",
    "infile.close()\n",
    "\n",
    "infile = open('../Data/MAPK14_ligand_names','rb')\n",
    "ligands = pickle.load(infile)\n",
    "infile.close()\n",
    "\n",
    "counter = 0\n",
    "self_docking_count = 0\n",
    "cross_docking_count = 0\n",
    "self_docking_sum = 0\n",
    "cross_docking_sum = 0\n",
    "cross_docking_min = rmsd_set[0][0]\n",
    "cross_docking_max = rmsd_set[0][0]\n",
    "min_ligand = ''\n",
    "min_struc = ''\n",
    "max_ligand = ''\n",
    "max_struc = ''\n",
    "self_total = 0\n",
    "cross_total = 0\n",
    "\n",
    "for struc in ligands:\n",
    "    for ligand in ligands:\n",
    "        if ligand != \"4DLI\" and struc != \"4DLI\":\n",
    "            if ligand == struc:\n",
    "                self_total += 1\n",
    "                self_docking_sum += rmsd_set[counter][0]\n",
    "                if rmsd_set[counter][0] < 2:\n",
    "                    self_docking_count += 1\n",
    "            else:\n",
    "                cross_total += 1\n",
    "                cross_docking_sum += rmsd_set[counter][0]\n",
    "                if rmsd_set[counter][0] < 2:\n",
    "                    cross_docking_count += 1\n",
    "                if rmsd_set[counter][0] < cross_docking_min:\n",
    "                    cross_docking_min = rmsd_set[counter][0]\n",
    "                    min_ligand = ligand\n",
    "                    min_struc = struc\n",
    "                if rmsd_set[counter][0] > cross_docking_max:\n",
    "                    cross_docking_max = rmsd_set[counter][0]\n",
    "                    max_ligand = ligand\n",
    "                    max_struc = struc\n",
    "                \n",
    "        counter += 1\n",
    "\n",
    "print(\"Without 4DLI:\")\n",
    "print(\"Self Docking Accuracy: \", self_docking_count * 100 / self_total)\n",
    "print(\"Cross Docking Accuracy: \", cross_docking_count * 100 / cross_total)      \n",
    "print(\"Self Docking Average RMSD: \", self_docking_sum / self_total)\n",
    "print(\"Cross Docking Average RMSD: \", cross_docking_sum / cross_total)\n",
    "print(\"Cross Docking Min RMSD: \", cross_docking_min, \" with ligand \", min_ligand, \" docked into protein \", min_struc)\n",
    "print(\"Cross Docking Max RMSD: \", cross_docking_max, \" with ligand \", max_ligand, \" docked into protein \", max_struc)"
   ]
  },
  {
   "cell_type": "code",
   "execution_count": null,
   "metadata": {
    "collapsed": true,
    "deletable": true,
    "editable": true
   },
   "outputs": [],
   "source": []
  }
 ],
 "metadata": {
  "kernelspec": {
   "display_name": "Python 3",
   "language": "python",
   "name": "python3"
  },
  "language_info": {
   "codemirror_mode": {
    "name": "ipython",
    "version": 3
   },
   "file_extension": ".py",
   "mimetype": "text/x-python",
   "name": "python",
   "nbconvert_exporter": "python",
   "pygments_lexer": "ipython3",
   "version": "3.5.2"
  }
 },
 "nbformat": 4,
 "nbformat_minor": 2
}
